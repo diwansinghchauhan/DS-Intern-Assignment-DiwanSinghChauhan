{
 "cells": [
  {
   "cell_type": "code",
   "execution_count": 2,
   "id": "50e33ad0-7b1c-42a5-b237-3a8962a0bf7d",
   "metadata": {},
   "outputs": [],
   "source": [
    "import pandas as pd\n",
    "import numpy as np\n",
    "import matplotlib.pyplot as plt\n",
    "import seaborn as sns"
   ]
  },
  {
   "cell_type": "code",
   "execution_count": 3,
   "id": "af5069fd-262b-482c-a233-7937cdd666b1",
   "metadata": {},
   "outputs": [
    {
     "data": {
      "text/html": [
       "<div>\n",
       "<style scoped>\n",
       "    .dataframe tbody tr th:only-of-type {\n",
       "        vertical-align: middle;\n",
       "    }\n",
       "\n",
       "    .dataframe tbody tr th {\n",
       "        vertical-align: top;\n",
       "    }\n",
       "\n",
       "    .dataframe thead th {\n",
       "        text-align: right;\n",
       "    }\n",
       "</style>\n",
       "<table border=\"1\" class=\"dataframe\">\n",
       "  <thead>\n",
       "    <tr style=\"text-align: right;\">\n",
       "      <th></th>\n",
       "      <th>timestamp</th>\n",
       "      <th>equipment_energy_consumption</th>\n",
       "      <th>lighting_energy</th>\n",
       "      <th>zone1_temperature</th>\n",
       "      <th>zone1_humidity</th>\n",
       "      <th>zone2_temperature</th>\n",
       "      <th>zone2_humidity</th>\n",
       "      <th>zone3_temperature</th>\n",
       "      <th>zone3_humidity</th>\n",
       "      <th>zone4_temperature</th>\n",
       "      <th>...</th>\n",
       "      <th>zone9_temperature</th>\n",
       "      <th>zone9_humidity</th>\n",
       "      <th>outdoor_temperature</th>\n",
       "      <th>atmospheric_pressure</th>\n",
       "      <th>outdoor_humidity</th>\n",
       "      <th>wind_speed</th>\n",
       "      <th>visibility_index</th>\n",
       "      <th>dew_point</th>\n",
       "      <th>random_variable1</th>\n",
       "      <th>random_variable2</th>\n",
       "    </tr>\n",
       "  </thead>\n",
       "  <tbody>\n",
       "    <tr>\n",
       "      <th>0</th>\n",
       "      <td>2016-01-11 17:00:00</td>\n",
       "      <td>60.0</td>\n",
       "      <td>-77.78778596503064</td>\n",
       "      <td>33.74660933896648</td>\n",
       "      <td>47.59666666666671</td>\n",
       "      <td>19.2</td>\n",
       "      <td>44.790000</td>\n",
       "      <td>19.79</td>\n",
       "      <td>NaN</td>\n",
       "      <td>19.000000</td>\n",
       "      <td>...</td>\n",
       "      <td>17.033333</td>\n",
       "      <td>45.53</td>\n",
       "      <td>6.600000</td>\n",
       "      <td>733.5</td>\n",
       "      <td>92.0</td>\n",
       "      <td>7.000000</td>\n",
       "      <td>63.000000</td>\n",
       "      <td>5.300000</td>\n",
       "      <td>13.275433</td>\n",
       "      <td>13.275433</td>\n",
       "    </tr>\n",
       "    <tr>\n",
       "      <th>1</th>\n",
       "      <td>2016-01-11 17:10:00</td>\n",
       "      <td>60.0</td>\n",
       "      <td>30.0</td>\n",
       "      <td>19.89</td>\n",
       "      <td>46.69333333333329</td>\n",
       "      <td>19.2</td>\n",
       "      <td>44.722500</td>\n",
       "      <td>19.79</td>\n",
       "      <td>44.790000</td>\n",
       "      <td>19.000000</td>\n",
       "      <td>...</td>\n",
       "      <td>17.066667</td>\n",
       "      <td>45.56</td>\n",
       "      <td>6.483333</td>\n",
       "      <td>733.6</td>\n",
       "      <td>92.0</td>\n",
       "      <td>6.666667</td>\n",
       "      <td>59.166667</td>\n",
       "      <td>5.200000</td>\n",
       "      <td>18.606195</td>\n",
       "      <td>18.606195</td>\n",
       "    </tr>\n",
       "    <tr>\n",
       "      <th>2</th>\n",
       "      <td>2016-01-11 17:20:00</td>\n",
       "      <td>50.0</td>\n",
       "      <td>30.0</td>\n",
       "      <td>19.89</td>\n",
       "      <td>46.3</td>\n",
       "      <td>19.2</td>\n",
       "      <td>44.626667</td>\n",
       "      <td>19.79</td>\n",
       "      <td>44.933333</td>\n",
       "      <td>35.921144</td>\n",
       "      <td>...</td>\n",
       "      <td>17.000000</td>\n",
       "      <td>45.50</td>\n",
       "      <td>6.366667</td>\n",
       "      <td>733.7</td>\n",
       "      <td>92.0</td>\n",
       "      <td>6.333333</td>\n",
       "      <td>55.333333</td>\n",
       "      <td>5.100000</td>\n",
       "      <td>28.642668</td>\n",
       "      <td>28.642668</td>\n",
       "    </tr>\n",
       "    <tr>\n",
       "      <th>3</th>\n",
       "      <td>2016-01-11 17:30:00</td>\n",
       "      <td>50.0</td>\n",
       "      <td>40.0</td>\n",
       "      <td>33.74660933896648</td>\n",
       "      <td>46.0666666666667</td>\n",
       "      <td>19.2</td>\n",
       "      <td>44.590000</td>\n",
       "      <td>19.79</td>\n",
       "      <td>45.000000</td>\n",
       "      <td>NaN</td>\n",
       "      <td>...</td>\n",
       "      <td>17.000000</td>\n",
       "      <td>45.40</td>\n",
       "      <td>6.250000</td>\n",
       "      <td>733.8</td>\n",
       "      <td>92.0</td>\n",
       "      <td>6.000000</td>\n",
       "      <td>51.500000</td>\n",
       "      <td>37.673716</td>\n",
       "      <td>45.410389</td>\n",
       "      <td>45.410389</td>\n",
       "    </tr>\n",
       "    <tr>\n",
       "      <th>4</th>\n",
       "      <td>2016-01-11 17:40:00</td>\n",
       "      <td>60.0</td>\n",
       "      <td>40.0</td>\n",
       "      <td>19.89</td>\n",
       "      <td>46.33333333333329</td>\n",
       "      <td>19.2</td>\n",
       "      <td>44.530000</td>\n",
       "      <td>19.79</td>\n",
       "      <td>45.000000</td>\n",
       "      <td>18.890000</td>\n",
       "      <td>...</td>\n",
       "      <td>4.476511</td>\n",
       "      <td>45.40</td>\n",
       "      <td>6.133333</td>\n",
       "      <td>733.9</td>\n",
       "      <td>92.0</td>\n",
       "      <td>5.666667</td>\n",
       "      <td>47.666667</td>\n",
       "      <td>4.900000</td>\n",
       "      <td>10.084097</td>\n",
       "      <td>10.084097</td>\n",
       "    </tr>\n",
       "  </tbody>\n",
       "</table>\n",
       "<p>5 rows × 29 columns</p>\n",
       "</div>"
      ],
      "text/plain": [
       "             timestamp equipment_energy_consumption     lighting_energy  \\\n",
       "0  2016-01-11 17:00:00                         60.0  -77.78778596503064   \n",
       "1  2016-01-11 17:10:00                         60.0                30.0   \n",
       "2  2016-01-11 17:20:00                         50.0                30.0   \n",
       "3  2016-01-11 17:30:00                         50.0                40.0   \n",
       "4  2016-01-11 17:40:00                         60.0                40.0   \n",
       "\n",
       "   zone1_temperature     zone1_humidity zone2_temperature  zone2_humidity  \\\n",
       "0  33.74660933896648  47.59666666666671              19.2       44.790000   \n",
       "1              19.89  46.69333333333329              19.2       44.722500   \n",
       "2              19.89               46.3              19.2       44.626667   \n",
       "3  33.74660933896648   46.0666666666667              19.2       44.590000   \n",
       "4              19.89  46.33333333333329              19.2       44.530000   \n",
       "\n",
       "   zone3_temperature  zone3_humidity  zone4_temperature  ...  \\\n",
       "0              19.79             NaN          19.000000  ...   \n",
       "1              19.79       44.790000          19.000000  ...   \n",
       "2              19.79       44.933333          35.921144  ...   \n",
       "3              19.79       45.000000                NaN  ...   \n",
       "4              19.79       45.000000          18.890000  ...   \n",
       "\n",
       "   zone9_temperature  zone9_humidity  outdoor_temperature  \\\n",
       "0          17.033333           45.53             6.600000   \n",
       "1          17.066667           45.56             6.483333   \n",
       "2          17.000000           45.50             6.366667   \n",
       "3          17.000000           45.40             6.250000   \n",
       "4           4.476511           45.40             6.133333   \n",
       "\n",
       "   atmospheric_pressure  outdoor_humidity  wind_speed  visibility_index  \\\n",
       "0                 733.5              92.0    7.000000         63.000000   \n",
       "1                 733.6              92.0    6.666667         59.166667   \n",
       "2                 733.7              92.0    6.333333         55.333333   \n",
       "3                 733.8              92.0    6.000000         51.500000   \n",
       "4                 733.9              92.0    5.666667         47.666667   \n",
       "\n",
       "   dew_point  random_variable1  random_variable2  \n",
       "0   5.300000         13.275433         13.275433  \n",
       "1   5.200000         18.606195         18.606195  \n",
       "2   5.100000         28.642668         28.642668  \n",
       "3  37.673716         45.410389         45.410389  \n",
       "4   4.900000         10.084097         10.084097  \n",
       "\n",
       "[5 rows x 29 columns]"
      ]
     },
     "execution_count": 3,
     "metadata": {},
     "output_type": "execute_result"
    }
   ],
   "source": [
    "# Load the dataset\n",
    "file_path = 'data/data.csv'\n",
    "df = pd.read_csv(file_path)\n",
    "\n",
    "# Display first few rows\n",
    "df.head()"
   ]
  },
  {
   "cell_type": "code",
   "execution_count": null,
   "id": "a4b626e0-c162-42d5-8d66-48fe92c9a2ab",
   "metadata": {},
   "outputs": [],
   "source": []
  },
  {
   "cell_type": "code",
   "execution_count": null,
   "id": "384b0b6c-d308-47ae-ac2d-553c977f2ef3",
   "metadata": {},
   "outputs": [],
   "source": []
  },
  {
   "cell_type": "code",
   "execution_count": null,
   "id": "3d68b9f0-3c56-4cae-940a-8a179103ff30",
   "metadata": {},
   "outputs": [],
   "source": []
  },
  {
   "cell_type": "code",
   "execution_count": null,
   "id": "d5980376-74e7-4443-ba95-07c5c06df8f4",
   "metadata": {},
   "outputs": [],
   "source": []
  },
  {
   "cell_type": "code",
   "execution_count": null,
   "id": "d7765101-1a35-4054-861d-95e32e8fea1f",
   "metadata": {},
   "outputs": [],
   "source": []
  },
  {
   "cell_type": "code",
   "execution_count": null,
   "id": "db05768c-0279-4637-87bb-9d6d7fe1200d",
   "metadata": {},
   "outputs": [],
   "source": []
  },
  {
   "cell_type": "code",
   "execution_count": null,
   "id": "01f901a1-9cd1-4ac1-a363-ddd333ad78c7",
   "metadata": {},
   "outputs": [],
   "source": []
  },
  {
   "cell_type": "code",
   "execution_count": null,
   "id": "e0527996-c3dc-4bf3-a58a-5aefff637385",
   "metadata": {},
   "outputs": [],
   "source": []
  },
  {
   "cell_type": "code",
   "execution_count": null,
   "id": "1dc30173-3d0b-4aa4-8712-13a82dd1254c",
   "metadata": {},
   "outputs": [],
   "source": []
  },
  {
   "cell_type": "code",
   "execution_count": null,
   "id": "572a58dc-290a-46e4-bc92-3b77f30083a9",
   "metadata": {},
   "outputs": [],
   "source": []
  },
  {
   "cell_type": "code",
   "execution_count": null,
   "id": "00efb8de-ba9a-4a3a-8792-aefe8ad9cffe",
   "metadata": {},
   "outputs": [],
   "source": []
  },
  {
   "cell_type": "code",
   "execution_count": null,
   "id": "507da675-37e7-4ed9-8d36-77832f0b35f0",
   "metadata": {},
   "outputs": [],
   "source": []
  },
  {
   "cell_type": "code",
   "execution_count": null,
   "id": "5b407864-b229-40df-b81d-75783421e314",
   "metadata": {},
   "outputs": [],
   "source": []
  },
  {
   "cell_type": "code",
   "execution_count": null,
   "id": "ff2dcf74-47d1-4e91-a2e1-9b012f673a20",
   "metadata": {},
   "outputs": [],
   "source": []
  },
  {
   "cell_type": "code",
   "execution_count": null,
   "id": "05343daa-4aea-413d-80ab-4506417ada0c",
   "metadata": {},
   "outputs": [],
   "source": []
  },
  {
   "cell_type": "code",
   "execution_count": null,
   "id": "643ac1fe-1787-4ae6-8696-79a374a8466f",
   "metadata": {},
   "outputs": [],
   "source": []
  },
  {
   "cell_type": "code",
   "execution_count": null,
   "id": "04d03f19-7436-40ed-93f0-2ec6a9dca844",
   "metadata": {},
   "outputs": [],
   "source": []
  },
  {
   "cell_type": "code",
   "execution_count": null,
   "id": "c6d92ee2-ae4e-4dae-831f-8b87741d8e02",
   "metadata": {},
   "outputs": [],
   "source": []
  },
  {
   "cell_type": "code",
   "execution_count": null,
   "id": "9fcd083b-4f38-40ae-bf94-091082ceeee5",
   "metadata": {},
   "outputs": [],
   "source": []
  },
  {
   "cell_type": "code",
   "execution_count": null,
   "id": "f99f9dee-018c-4820-9ebe-28a3f15e57d9",
   "metadata": {},
   "outputs": [],
   "source": []
  },
  {
   "cell_type": "code",
   "execution_count": null,
   "id": "dfa9d82b-bf8b-4c6b-948d-5a330aa46613",
   "metadata": {},
   "outputs": [],
   "source": []
  },
  {
   "cell_type": "code",
   "execution_count": null,
   "id": "5345d743-305e-4650-b8b1-12e0394ab0c7",
   "metadata": {},
   "outputs": [],
   "source": []
  },
  {
   "cell_type": "code",
   "execution_count": null,
   "id": "06db9d37-685e-46a1-8bc0-f622a5524aca",
   "metadata": {},
   "outputs": [],
   "source": []
  },
  {
   "cell_type": "code",
   "execution_count": null,
   "id": "7ddb5de4-5cc1-4d15-a3a3-fcdd94da66f3",
   "metadata": {},
   "outputs": [],
   "source": []
  },
  {
   "cell_type": "code",
   "execution_count": null,
   "id": "2a61ed63-f309-42bb-9ffc-0243380e05ef",
   "metadata": {},
   "outputs": [],
   "source": []
  },
  {
   "cell_type": "code",
   "execution_count": null,
   "id": "6290ae91-c033-48bf-b752-edd8350a8fa2",
   "metadata": {},
   "outputs": [],
   "source": []
  },
  {
   "cell_type": "code",
   "execution_count": null,
   "id": "d15b4548-e10b-467c-9ef2-630d3bcf7bfc",
   "metadata": {},
   "outputs": [],
   "source": []
  },
  {
   "cell_type": "code",
   "execution_count": null,
   "id": "cab8660b-e8ef-47c4-af36-376751e6cfab",
   "metadata": {},
   "outputs": [],
   "source": []
  },
  {
   "cell_type": "code",
   "execution_count": null,
   "id": "28cca7f8-494f-4b54-aedb-f8a03938f445",
   "metadata": {},
   "outputs": [],
   "source": []
  },
  {
   "cell_type": "code",
   "execution_count": null,
   "id": "8e82414f-b30f-460b-89a0-679713b2e712",
   "metadata": {},
   "outputs": [],
   "source": []
  },
  {
   "cell_type": "code",
   "execution_count": null,
   "id": "0dcd9209-7c44-49e0-82b1-925a748f3f0b",
   "metadata": {},
   "outputs": [],
   "source": []
  },
  {
   "cell_type": "code",
   "execution_count": null,
   "id": "0c3afff3-8ec8-499e-bba9-5f8ff6a069bf",
   "metadata": {},
   "outputs": [],
   "source": []
  },
  {
   "cell_type": "code",
   "execution_count": null,
   "id": "2fe76218-3156-4f70-a677-741e0268091c",
   "metadata": {},
   "outputs": [],
   "source": []
  },
  {
   "cell_type": "code",
   "execution_count": null,
   "id": "72369097-2c2e-496a-a903-a7a96e409bb0",
   "metadata": {},
   "outputs": [],
   "source": []
  },
  {
   "cell_type": "code",
   "execution_count": null,
   "id": "d580b608-ff74-4fe4-b119-acbba691a38f",
   "metadata": {},
   "outputs": [],
   "source": []
  },
  {
   "cell_type": "code",
   "execution_count": null,
   "id": "5360ef6b-3974-4b11-a5ee-3686ef300a46",
   "metadata": {},
   "outputs": [],
   "source": []
  },
  {
   "cell_type": "code",
   "execution_count": null,
   "id": "c25996f3-23c7-4160-853f-247a46f8e660",
   "metadata": {},
   "outputs": [],
   "source": []
  },
  {
   "cell_type": "code",
   "execution_count": null,
   "id": "c271b7df-95ab-4bdd-8133-633cc492e133",
   "metadata": {},
   "outputs": [],
   "source": []
  },
  {
   "cell_type": "code",
   "execution_count": null,
   "id": "0b02c9ae-13ec-42e5-96cc-4f19c2dcc764",
   "metadata": {},
   "outputs": [],
   "source": []
  },
  {
   "cell_type": "code",
   "execution_count": null,
   "id": "972e4c89-a3a4-41bd-90b8-8bd6d9946fd0",
   "metadata": {},
   "outputs": [],
   "source": []
  },
  {
   "cell_type": "code",
   "execution_count": null,
   "id": "40ab2d50-231e-40ab-ae99-51e1fcff44c9",
   "metadata": {},
   "outputs": [],
   "source": []
  },
  {
   "cell_type": "code",
   "execution_count": null,
   "id": "2bb69151-42a0-48b8-9680-00b78b2c1689",
   "metadata": {},
   "outputs": [],
   "source": []
  },
  {
   "cell_type": "code",
   "execution_count": null,
   "id": "c63dd81a-a7b7-4019-912b-ec7c2589e262",
   "metadata": {},
   "outputs": [],
   "source": []
  },
  {
   "cell_type": "code",
   "execution_count": null,
   "id": "34969984-61e8-4c96-89d6-fe4c528820c7",
   "metadata": {},
   "outputs": [],
   "source": []
  },
  {
   "cell_type": "code",
   "execution_count": null,
   "id": "06dae214-af99-4ab0-852f-2b1afc1b6f97",
   "metadata": {},
   "outputs": [],
   "source": []
  },
  {
   "cell_type": "code",
   "execution_count": null,
   "id": "6de64af3-b762-4678-b3f4-dc46087248ac",
   "metadata": {},
   "outputs": [],
   "source": []
  },
  {
   "cell_type": "code",
   "execution_count": null,
   "id": "ecb37eb9-2c90-46d1-8fe1-a8d427de5878",
   "metadata": {},
   "outputs": [],
   "source": []
  },
  {
   "cell_type": "code",
   "execution_count": null,
   "id": "847ed9fa-5b78-487a-b54b-b8bd2cda8f2d",
   "metadata": {},
   "outputs": [],
   "source": []
  },
  {
   "cell_type": "code",
   "execution_count": null,
   "id": "6d075b4d-67c1-4ce6-aeca-1fb38353be49",
   "metadata": {},
   "outputs": [],
   "source": []
  },
  {
   "cell_type": "code",
   "execution_count": null,
   "id": "e15368a2-1d72-4895-b14e-a7e53b997bad",
   "metadata": {},
   "outputs": [],
   "source": []
  },
  {
   "cell_type": "code",
   "execution_count": null,
   "id": "75cdf29d-ed07-40a3-843b-54dfb6b98156",
   "metadata": {},
   "outputs": [],
   "source": []
  },
  {
   "cell_type": "code",
   "execution_count": null,
   "id": "aa301e2c-232e-479e-8fab-7c8791fe3606",
   "metadata": {},
   "outputs": [],
   "source": []
  },
  {
   "cell_type": "code",
   "execution_count": null,
   "id": "775d4b51-1d11-4d07-bd9f-2e52a50f0448",
   "metadata": {},
   "outputs": [],
   "source": []
  },
  {
   "cell_type": "code",
   "execution_count": null,
   "id": "f35a3291-aeaa-4625-92a9-7ebb55df5bb9",
   "metadata": {},
   "outputs": [],
   "source": []
  },
  {
   "cell_type": "code",
   "execution_count": null,
   "id": "12482b8a-e052-4d71-bb49-3c82c939aca8",
   "metadata": {},
   "outputs": [],
   "source": []
  },
  {
   "cell_type": "code",
   "execution_count": null,
   "id": "f60bdb65-f01d-4dc7-93d7-246fa5e4c3e4",
   "metadata": {},
   "outputs": [],
   "source": []
  },
  {
   "cell_type": "code",
   "execution_count": null,
   "id": "1d7c8057-9140-4b18-9b2e-d802628054a5",
   "metadata": {},
   "outputs": [],
   "source": []
  },
  {
   "cell_type": "code",
   "execution_count": null,
   "id": "9bd11c14-93c4-4903-a9f6-426807210614",
   "metadata": {},
   "outputs": [],
   "source": []
  }
 ],
 "metadata": {
  "kernelspec": {
   "display_name": "Mechademy_DS",
   "language": "python",
   "name": "mechademy"
  },
  "language_info": {
   "codemirror_mode": {
    "name": "ipython",
    "version": 3
   },
   "file_extension": ".py",
   "mimetype": "text/x-python",
   "name": "python",
   "nbconvert_exporter": "python",
   "pygments_lexer": "ipython3",
   "version": "3.9.21"
  }
 },
 "nbformat": 4,
 "nbformat_minor": 5
}
